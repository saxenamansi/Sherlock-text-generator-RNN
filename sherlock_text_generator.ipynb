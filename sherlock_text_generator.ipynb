{
  "nbformat": 4,
  "nbformat_minor": 0,
  "metadata": {
    "kernelspec": {
      "display_name": "Python 3",
      "language": "python",
      "name": "python3"
    },
    "language_info": {
      "codemirror_mode": {
        "name": "ipython",
        "version": 3
      },
      "file_extension": ".py",
      "mimetype": "text/x-python",
      "name": "python",
      "nbconvert_exporter": "python",
      "pygments_lexer": "ipython3",
      "version": "3.8.3"
    },
    "colab": {
      "name": "sherlock-text-generator.ipynb",
      "provenance": []
    },
    "accelerator": "GPU"
  },
  "cells": [
    {
      "cell_type": "markdown",
      "metadata": {
        "id": "VaQ08dlCdDGp"
      },
      "source": [
        "## Reading the book content without header and footer section and writing the content to another text file"
      ]
    },
    {
      "cell_type": "code",
      "metadata": {
        "colab": {
          "base_uri": "https://localhost:8080/"
        },
        "id": "N2WHYmc-ie1l",
        "outputId": "6a8ae908-1cc4-428d-afbd-39920cbf5d00"
      },
      "source": [
        "from google.colab import drive\n",
        "drive.mount('/content/drive')"
      ],
      "execution_count": 1,
      "outputs": [
        {
          "output_type": "stream",
          "text": [
            "Mounted at /content/drive\n"
          ],
          "name": "stdout"
        }
      ]
    },
    {
      "cell_type": "code",
      "metadata": {
        "id": "Lnvvm6RgdDHG"
      },
      "source": [
        "path = '/content/drive/MyDrive/Text Generation using Sherlock book/NLP task.txt'\n",
        "fhandle = open(path, encoding=\"utf8\")\n",
        "for line in fhandle:\n",
        "    if line.rstrip() == \"*** START OF THIS PROJECT GUTENBERG EBOOK THE ADVENTURES OF SHERLOCK HOLMES ***\":\n",
        "        break\n",
        "write_path = '/content/drive/MyDrive/Text Generation using Sherlock book/NLP_book.txt'\n",
        "output_file = open(write_path, 'w')\n",
        "for line in fhandle:\n",
        "    if line.rstrip() == \"*** END OF THIS PROJECT GUTENBERG EBOOK THE ADVENTURES OF SHERLOCK HOLMES ***\":\n",
        "        break;\n",
        "    output_file.write(line)   \n",
        "output_file.close()\n",
        "fhandle.close()"
      ],
      "execution_count": 2,
      "outputs": []
    },
    {
      "cell_type": "code",
      "metadata": {
        "colab": {
          "base_uri": "https://localhost:8080/"
        },
        "id": "hex_CfD-dDHM",
        "outputId": "84590a76-5c8d-4aab-9b11-9c956c1d51a1"
      },
      "source": [
        "text = open(write_path, 'r', encoding='utf8').read()\n",
        "text = text.lower()\n",
        "unique_chars = set(text)\n",
        "\n",
        "print(\"Total number of characters in the book: \", len(text))\n",
        "print(\"Total number of words in the book: \", len(text.split()))\n",
        "print(\"Total number of unique characters:\" ,len(unique_chars))"
      ],
      "execution_count": 3,
      "outputs": [
        {
          "output_type": "stream",
          "text": [
            "Total number of characters in the book:  562371\n",
            "Total number of words in the book:  104530\n",
            "Total number of unique characters: 62\n"
          ],
          "name": "stdout"
        }
      ]
    },
    {
      "cell_type": "code",
      "metadata": {
        "id": "qysYjY-sdDHU"
      },
      "source": [
        "char_dict = {}\n",
        "for index, char in enumerate(unique_chars):\n",
        "    char_dict[char] = index"
      ],
      "execution_count": 4,
      "outputs": []
    },
    {
      "cell_type": "code",
      "metadata": {
        "colab": {
          "base_uri": "https://localhost:8080/"
        },
        "id": "gg2-djIYdDHZ",
        "outputId": "8180768d-5cac-4fae-8ff2-1ea8c2bdbdaa"
      },
      "source": [
        "char_dict.items()"
      ],
      "execution_count": 5,
      "outputs": [
        {
          "output_type": "execute_result",
          "data": {
            "text/plain": [
              "dict_items([('b', 0), ('q', 1), ('\\n', 2), ('y', 3), ('5', 4), ('v', 5), ('i', 6), ('w', 7), ('è', 8), ('l', 9), ('k', 10), ('é', 11), ('.', 12), ('œ', 13), ('’', 14), ('e', 15), ('8', 16), ('‘', 17), ('t', 18), ('à', 19), ('?', 20), (';', 21), ('&', 22), ('“', 23), ('u', 24), ('!', 25), ('4', 26), ('h', 27), ('f', 28), ('_', 29), (')', 30), ('æ', 31), (':', 32), ('-', 33), ('”', 34), ('c', 35), ('s', 36), ('0', 37), ('m', 38), ('r', 39), ('z', 40), (',', 41), ('£', 42), ('7', 43), ('a', 44), ('3', 45), ('½', 46), ('p', 47), ('â', 48), ('9', 49), ('o', 50), ('j', 51), ('2', 52), ('x', 53), (' ', 54), ('(', 55), ('d', 56), ('1', 57), ('g', 58), ('—', 59), ('6', 60), ('n', 61)])"
            ]
          },
          "metadata": {
            "tags": []
          },
          "execution_count": 5
        }
      ]
    },
    {
      "cell_type": "code",
      "metadata": {
        "id": "q8H1M4EfOzsR"
      },
      "source": [
        "int_to_char_dict = {}\n",
        "for k, v in char_dict.items():\n",
        "  int_to_char_dict[v] = k"
      ],
      "execution_count": 39,
      "outputs": []
    },
    {
      "cell_type": "code",
      "metadata": {
        "colab": {
          "base_uri": "https://localhost:8080/"
        },
        "id": "WqBlWW5hO9fM",
        "outputId": "4480bbf5-502c-46a1-a207-2edab4a4d333"
      },
      "source": [
        "int_to_char_dict.items()"
      ],
      "execution_count": 40,
      "outputs": [
        {
          "output_type": "execute_result",
          "data": {
            "text/plain": [
              "dict_items([(0, 'b'), (1, 'q'), (2, '\\n'), (3, 'y'), (4, '5'), (5, 'v'), (6, 'i'), (7, 'w'), (8, 'è'), (9, 'l'), (10, 'k'), (11, 'é'), (12, '.'), (13, 'œ'), (14, '’'), (15, 'e'), (16, '8'), (17, '‘'), (18, 't'), (19, 'à'), (20, '?'), (21, ';'), (22, '&'), (23, '“'), (24, 'u'), (25, '!'), (26, '4'), (27, 'h'), (28, 'f'), (29, '_'), (30, ')'), (31, 'æ'), (32, ':'), (33, '-'), (34, '”'), (35, 'c'), (36, 's'), (37, '0'), (38, 'm'), (39, 'r'), (40, 'z'), (41, ','), (42, '£'), (43, '7'), (44, 'a'), (45, '3'), (46, '½'), (47, 'p'), (48, 'â'), (49, '9'), (50, 'o'), (51, 'j'), (52, '2'), (53, 'x'), (54, ' '), (55, '('), (56, 'd'), (57, '1'), (58, 'g'), (59, '—'), (60, '6'), (61, 'n')])"
            ]
          },
          "metadata": {
            "tags": []
          },
          "execution_count": 40
        }
      ]
    },
    {
      "cell_type": "markdown",
      "metadata": {
        "id": "1GYmgaLedDHg"
      },
      "source": [
        "## Training char-by-char with a sliding window of 80 characters at a time"
      ]
    },
    {
      "cell_type": "code",
      "metadata": {
        "id": "X_TM_XUIdDHl"
      },
      "source": [
        "window_len = 80\n",
        "input_seq = []\n",
        "output_seq = []\n",
        "for i in range(0, len(text) - window_len, 1):\n",
        "    seq_in = text[i:i + window_len]\n",
        "    seq_out = text[i + window_len]\n",
        "    input_seq.append([char_dict[char] for char in seq_in])\n",
        "    output_seq.append(char_dict[seq_out])"
      ],
      "execution_count": 6,
      "outputs": []
    },
    {
      "cell_type": "code",
      "metadata": {
        "scrolled": true,
        "colab": {
          "base_uri": "https://localhost:8080/"
        },
        "id": "YSV2QDT3dDHo",
        "outputId": "c172f1a1-f7eb-4e02-fd6f-6dd82d7a92a6"
      },
      "source": [
        "print(\"Length of input characters: \", len(input_seq))\n",
        "print(\"Length of output sequence: \", len(output_seq))\n",
        "print(\"Length of each sequence in input sequence: \", len(input_seq[0]))"
      ],
      "execution_count": 7,
      "outputs": [
        {
          "output_type": "stream",
          "text": [
            "Length of input characters:  562291\n",
            "Length of output sequence:  562291\n",
            "Length of each sequence in input sequence:  80\n"
          ],
          "name": "stdout"
        }
      ]
    },
    {
      "cell_type": "markdown",
      "metadata": {
        "id": "XP0rJKordDHs"
      },
      "source": [
        "## Transforming the input and output sequences into one hot encoded vectors"
      ]
    },
    {
      "cell_type": "code",
      "metadata": {
        "id": "iFecV6OLdDHu"
      },
      "source": [
        "from keras.utils import np_utils\n",
        "import numpy as np\n",
        "\n",
        "# reshape X to be [samples, time steps, features]\n",
        "X = np.reshape(input_seq, (len(input_seq), window_len, 1))\n",
        "\n",
        "# normalize\n",
        "X = X / float(len(unique_chars))\n",
        "\n",
        "# one hot encode the output variable\n",
        "y = np_utils.to_categorical(output_seq)"
      ],
      "execution_count": 8,
      "outputs": []
    },
    {
      "cell_type": "markdown",
      "metadata": {
        "id": "UINQOyxVdDHx"
      },
      "source": [
        "## Creating the sequential LSTM Model"
      ]
    },
    {
      "cell_type": "code",
      "metadata": {
        "id": "6Mip34IXdDHy"
      },
      "source": [
        "import numpy as np\n",
        "from keras.models import Sequential\n",
        "from keras.layers import Dense\n",
        "from keras.layers import Dropout\n",
        "from keras.layers import LSTM\n",
        "from keras.callbacks import ModelCheckpoint\n",
        "from keras.utils import np_utils\n",
        "import tensorflow as tf"
      ],
      "execution_count": 10,
      "outputs": []
    },
    {
      "cell_type": "code",
      "metadata": {
        "id": "gxXDRFc2_6rr"
      },
      "source": [
        "model = Sequential()\n",
        "model.add(LSTM(256, input_shape=(X.shape[1], X.shape[2]), return_sequences=True))\n",
        "model.add(Dropout(0.2))\n",
        "model.add(LSTM(256))\n",
        "model.add(Dropout(0.2))\n",
        "model.add(Dense(y.shape[1], activation='softmax'))"
      ],
      "execution_count": 21,
      "outputs": []
    },
    {
      "cell_type": "code",
      "metadata": {
        "id": "RS1cIPkj__f5"
      },
      "source": [
        "model.compile(loss='categorical_crossentropy', optimizer='adam')"
      ],
      "execution_count": 24,
      "outputs": []
    },
    {
      "cell_type": "code",
      "metadata": {
        "id": "Y3xgIR6g-Fab"
      },
      "source": [
        "filepath=\"../logs/weights-improvement-{epoch:02d}-{loss:.4f}.hdf5\"\n",
        "checkpoint = ModelCheckpoint(filepath, monitor='loss', verbose=1, save_best_only=True, mode='min')\n",
        "callbacks_list = [checkpoint]"
      ],
      "execution_count": 25,
      "outputs": []
    },
    {
      "cell_type": "code",
      "metadata": {
        "colab": {
          "base_uri": "https://localhost:8080/"
        },
        "id": "9hJ0fOzBdDH0",
        "outputId": "8d6f9e5f-9a2b-40b5-852a-303eb909f8d7"
      },
      "source": [
        "history_ = model.fit(X, y, epochs=25, batch_size=512, callbacks=callbacks_list)"
      ],
      "execution_count": 27,
      "outputs": [
        {
          "output_type": "stream",
          "text": [
            "Epoch 1/25\n",
            "1099/1099 [==============================] - 92s 82ms/step - loss: 3.0470\n",
            "\n",
            "Epoch 00001: loss improved from inf to 2.96716, saving model to ../logs/weights-improvement-01-2.9672.hdf5\n",
            "Epoch 2/25\n",
            "1099/1099 [==============================] - 89s 81ms/step - loss: 2.6999\n",
            "\n",
            "Epoch 00002: loss improved from 2.96716 to 2.59922, saving model to ../logs/weights-improvement-02-2.5992.hdf5\n",
            "Epoch 3/25\n",
            "1099/1099 [==============================] - 89s 81ms/step - loss: 2.3755\n",
            "\n",
            "Epoch 00003: loss improved from 2.59922 to 2.32802, saving model to ../logs/weights-improvement-03-2.3280.hdf5\n",
            "Epoch 4/25\n",
            "1099/1099 [==============================] - 89s 81ms/step - loss: 2.2106\n",
            "\n",
            "Epoch 00004: loss improved from 2.32802 to 2.18634, saving model to ../logs/weights-improvement-04-2.1863.hdf5\n",
            "Epoch 5/25\n",
            "1099/1099 [==============================] - 89s 81ms/step - loss: 2.1049\n",
            "\n",
            "Epoch 00005: loss improved from 2.18634 to 2.08840, saving model to ../logs/weights-improvement-05-2.0884.hdf5\n",
            "Epoch 6/25\n",
            "1099/1099 [==============================] - 89s 81ms/step - loss: 2.0286\n",
            "\n",
            "Epoch 00006: loss improved from 2.08840 to 2.01492, saving model to ../logs/weights-improvement-06-2.0149.hdf5\n",
            "Epoch 7/25\n",
            "1099/1099 [==============================] - 89s 81ms/step - loss: 1.9733\n",
            "\n",
            "Epoch 00007: loss improved from 2.01492 to 1.96363, saving model to ../logs/weights-improvement-07-1.9636.hdf5\n",
            "Epoch 8/25\n",
            "1099/1099 [==============================] - 89s 81ms/step - loss: 1.9214\n",
            "\n",
            "Epoch 00008: loss improved from 1.96363 to 1.91869, saving model to ../logs/weights-improvement-08-1.9187.hdf5\n",
            "Epoch 9/25\n",
            "1099/1099 [==============================] - 89s 81ms/step - loss: 1.8878\n",
            "\n",
            "Epoch 00009: loss improved from 1.91869 to 1.88594, saving model to ../logs/weights-improvement-09-1.8859.hdf5\n",
            "Epoch 10/25\n",
            "1099/1099 [==============================] - 89s 81ms/step - loss: 1.8567\n",
            "\n",
            "Epoch 00010: loss improved from 1.88594 to 1.85739, saving model to ../logs/weights-improvement-10-1.8574.hdf5\n",
            "Epoch 11/25\n",
            "1099/1099 [==============================] - 89s 81ms/step - loss: 1.8319\n",
            "\n",
            "Epoch 00011: loss improved from 1.85739 to 1.83044, saving model to ../logs/weights-improvement-11-1.8304.hdf5\n",
            "Epoch 12/25\n",
            "1099/1099 [==============================] - 89s 81ms/step - loss: 1.8076\n",
            "\n",
            "Epoch 00012: loss improved from 1.83044 to 1.80785, saving model to ../logs/weights-improvement-12-1.8078.hdf5\n",
            "Epoch 13/25\n",
            "1099/1099 [==============================] - 89s 81ms/step - loss: 1.7885\n",
            "\n",
            "Epoch 00013: loss improved from 1.80785 to 1.78641, saving model to ../logs/weights-improvement-13-1.7864.hdf5\n",
            "Epoch 14/25\n",
            "1099/1099 [==============================] - 89s 81ms/step - loss: 1.7662\n",
            "\n",
            "Epoch 00014: loss improved from 1.78641 to 1.76970, saving model to ../logs/weights-improvement-14-1.7697.hdf5\n",
            "Epoch 15/25\n",
            "1099/1099 [==============================] - 89s 81ms/step - loss: 1.7524\n",
            "\n",
            "Epoch 00015: loss improved from 1.76970 to 1.75270, saving model to ../logs/weights-improvement-15-1.7527.hdf5\n",
            "Epoch 16/25\n",
            "1099/1099 [==============================] - 89s 81ms/step - loss: 1.7400\n",
            "\n",
            "Epoch 00016: loss improved from 1.75270 to 1.73888, saving model to ../logs/weights-improvement-16-1.7389.hdf5\n",
            "Epoch 17/25\n",
            "1099/1099 [==============================] - 89s 81ms/step - loss: 1.7263\n",
            "\n",
            "Epoch 00017: loss improved from 1.73888 to 1.72664, saving model to ../logs/weights-improvement-17-1.7266.hdf5\n",
            "Epoch 18/25\n",
            "1099/1099 [==============================] - 89s 81ms/step - loss: 1.7090\n",
            "\n",
            "Epoch 00018: loss improved from 1.72664 to 1.71198, saving model to ../logs/weights-improvement-18-1.7120.hdf5\n",
            "Epoch 19/25\n",
            "1099/1099 [==============================] - 89s 81ms/step - loss: 1.6981\n",
            "\n",
            "Epoch 00019: loss improved from 1.71198 to 1.70095, saving model to ../logs/weights-improvement-19-1.7010.hdf5\n",
            "Epoch 20/25\n",
            "1099/1099 [==============================] - 89s 81ms/step - loss: 1.6838\n",
            "\n",
            "Epoch 00020: loss improved from 1.70095 to 1.68965, saving model to ../logs/weights-improvement-20-1.6896.hdf5\n",
            "Epoch 21/25\n",
            "1099/1099 [==============================] - 89s 81ms/step - loss: 1.6724\n",
            "\n",
            "Epoch 00021: loss improved from 1.68965 to 1.67775, saving model to ../logs/weights-improvement-21-1.6777.hdf5\n",
            "Epoch 22/25\n",
            "1099/1099 [==============================] - 89s 81ms/step - loss: 1.6644\n",
            "\n",
            "Epoch 00022: loss improved from 1.67775 to 1.66807, saving model to ../logs/weights-improvement-22-1.6681.hdf5\n",
            "Epoch 23/25\n",
            "1099/1099 [==============================] - 89s 81ms/step - loss: 1.6590\n",
            "\n",
            "Epoch 00023: loss improved from 1.66807 to 1.66065, saving model to ../logs/weights-improvement-23-1.6606.hdf5\n",
            "Epoch 24/25\n",
            "1099/1099 [==============================] - 89s 81ms/step - loss: 1.6464\n",
            "\n",
            "Epoch 00024: loss improved from 1.66065 to 1.65033, saving model to ../logs/weights-improvement-24-1.6503.hdf5\n",
            "Epoch 25/25\n",
            "1099/1099 [==============================] - 89s 81ms/step - loss: 1.6364\n",
            "\n",
            "Epoch 00025: loss improved from 1.65033 to 1.64296, saving model to ../logs/weights-improvement-25-1.6430.hdf5\n"
          ],
          "name": "stdout"
        }
      ]
    },
    {
      "cell_type": "code",
      "metadata": {
        "colab": {
          "base_uri": "https://localhost:8080/"
        },
        "id": "41ew-Z5i8ni4",
        "outputId": "06187218-34f4-4b7b-a53f-12a55df2a16b"
      },
      "source": [
        "history_.history"
      ],
      "execution_count": 28,
      "outputs": [
        {
          "output_type": "execute_result",
          "data": {
            "text/plain": [
              "{'loss': [2.967164993286133,\n",
              "  2.599224805831909,\n",
              "  2.328023910522461,\n",
              "  2.1863412857055664,\n",
              "  2.088399648666382,\n",
              "  2.014918327331543,\n",
              "  1.9636296033859253,\n",
              "  1.918687343597412,\n",
              "  1.8859351873397827,\n",
              "  1.8573904037475586,\n",
              "  1.8304370641708374,\n",
              "  1.8078471422195435,\n",
              "  1.7864060401916504,\n",
              "  1.769704818725586,\n",
              "  1.7526977062225342,\n",
              "  1.7388808727264404,\n",
              "  1.726637363433838,\n",
              "  1.7119840383529663,\n",
              "  1.7009505033493042,\n",
              "  1.6896486282348633,\n",
              "  1.6777474880218506,\n",
              "  1.6680729389190674,\n",
              "  1.660649299621582,\n",
              "  1.650329828262329,\n",
              "  1.6429623365402222]}"
            ]
          },
          "metadata": {
            "tags": []
          },
          "execution_count": 28
        }
      ]
    },
    {
      "cell_type": "code",
      "metadata": {
        "colab": {
          "base_uri": "https://localhost:8080/",
          "height": 298
        },
        "id": "xVLuRbsedDH3",
        "outputId": "754c5d94-0ef0-4dae-e2c2-f6265b8dbcb4"
      },
      "source": [
        "import matplotlib.pyplot as plt\n",
        "loss = history_.history['loss']\n",
        "\n",
        "epochs = range(len(loss))\n",
        "\n",
        "plt.plot(epochs, loss, 'b', label='Loss')\n",
        "plt.title('Loss')\n",
        "plt.legend(loc=0)\n",
        "plt.figure()\n",
        "\n",
        "plt.show()"
      ],
      "execution_count": 31,
      "outputs": [
        {
          "output_type": "display_data",
          "data": {
            "image/png": "[encoded data removed]",
            "text/plain": [
              "<Figure size 432x288 with 1 Axes>"
            ]
          },
          "metadata": {
            "tags": [],
            "needs_background": "light"
          }
        },
        {
          "output_type": "display_data",
          "data": {
            "text/plain": [
              "<Figure size 432x288 with 0 Axes>"
            ]
          },
          "metadata": {
            "tags": []
          }
        }
      ]
    },
    {
      "cell_type": "code",
      "metadata": {
        "colab": {
          "base_uri": "https://localhost:8080/",
          "height": 34
        },
        "id": "kpedehL7OOjA",
        "outputId": "d7e2eed2-8381-4a06-ab97-47f865ad667c"
      },
      "source": [
        "start = np.random.randint(0, len(input_seq)-1)\n",
        "pattern = input_seq[start]\n",
        "''.join([int_to_char_dict[val] for val in pattern])"
      ],
      "execution_count": 41,
      "outputs": [
        {
          "output_type": "execute_result",
          "data": {
            "application/vnd.google.colaboratory.intrinsic+json": {
              "type": "string"
            },
            "text/plain": [
              "'t his whole debts at the present moment,\\nas far as we have been able to ascertai'"
            ]
          },
          "metadata": {
            "tags": []
          },
          "execution_count": 41
        }
      ]
    },
    {
      "cell_type": "code",
      "metadata": {
        "id": "94sNCofH8aYw",
        "colab": {
          "base_uri": "https://localhost:8080/"
        },
        "outputId": "1b20b568-be96-4a1a-fcf1-e5195db488b0"
      },
      "source": [
        "import sys\n",
        "for i in range(1000):\n",
        "\tx = np.reshape(pattern, (1, len(pattern), 1))\n",
        "\tx = x / float(len(unique_chars))\n",
        "\tprediction = model.predict(x, verbose=0)\n",
        "\tindex = np.argmax(prediction)\n",
        "\tresult = int_to_char_dict[index]\n",
        "\tseq_in = [int_to_char_dict[value] for value in pattern]\n",
        "\tsys.stdout.write(result)\n",
        "\tpattern.append(index)\n",
        "\tpattern = pattern[1:len(pattern)]"
      ],
      "execution_count": 47,
      "outputs": [
        {
          "output_type": "stream",
          "text": [
            "n the sort to the cort of the\n",
            "sorpner and the sore to the cort to the cort to the cort to the sore\n",
            "monty uoon the sort to the cort to the cort to the cort to the come of\n",
            "the sort to the cort to the cort to the cort to the cort to the sore\n",
            "monty uoon the sort to the cort to the cort to the cort to the come of\n",
            "the sort to the cort to the cort to the cort to the cort to the sore\n",
            "monty uoon the sort to the cort to the cort to the cort to the come of\n",
            "the sort to the cort to the cort to the cort to the cort to the sore\n",
            "monty uoon the sort to the cort to the cort to the cort to the come of\n",
            "the sort to the cort to the cort to the cort to the cort to the sore\n",
            "monty uoon the sort to the cort to the cort to the cort to the come of\n",
            "the sort to the cort to the cort to the cort to the cort to the sore\n",
            "monty uoon the sort to the cort to the cort to the cort to the come of\n",
            "the sort to the cort to the cort to the cort to the cort to the sore\n",
            "monty uoon the sort to the cort to the cort to the cort to th"
          ],
          "name": "stdout"
        }
      ]
    },
    {
      "cell_type": "code",
      "metadata": {
        "id": "-TkaPVJMOGOT"
      },
      "source": [
        ""
      ],
      "execution_count": null,
      "outputs": []
    }
  ]
}